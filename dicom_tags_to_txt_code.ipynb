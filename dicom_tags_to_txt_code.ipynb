{
 "cells": [
  {
   "cell_type": "code",
   "execution_count": 1,
   "metadata": {},
   "outputs": [],
   "source": [
    "# Install a pydicom package in the current Jupyter kernel\n",
    "#import sys\n",
    "#!conda install --yes --prefix {sys.prefix} pydicom"
   ]
  },
  {
   "cell_type": "code",
   "execution_count": 2,
   "metadata": {},
   "outputs": [],
   "source": [
    "import pandas as pd\n",
    "import os\n",
    "import pydicom \n",
    "from pydicom.data import get_testdata_files\n",
    "ds1 = pydicom.dcmread('C:/Users/Vikram/Downloads/ttfm.dcm')  \n",
    "ds2 = pydicom.dcmread('C:/Users/Vikram/Downloads/bmode.dcm')"
   ]
  },
  {
   "cell_type": "code",
   "execution_count": 3,
   "metadata": {},
   "outputs": [
    {
     "name": "stdout",
     "output_type": "stream",
     "text": [
      "ttfm Tags\n",
      "['Specific Character Set', 'Image Type', 'SOP Class UID', 'SOP Instance UID', 'Study Date', 'Series Date', 'Content Date', 'Study Time', 'Series Time', 'Content Time', 'Accession Number', 'Modality', 'Manufacturer', 'Institution Name', 'Institution Address', \"Referring Physician's Name\", 'Station Name', 'Study Description', \"Performing Physician's Name\", \"Manufacturer's Model Name\", 'Recommended Display Frame Rate', \"Patient's Name\", 'Patient ID', \"Patient's Birth Date\", \"Patient's Sex\", \"Patient's Size\", \"Patient's Weight\", 'Patient Comments', 'Cine Rate', 'Effective Duration', 'Device Serial Number', 'Software Version(s)', 'Frame Time', 'Preferred Playback Sequencing', 'Sequence of Ultrasound Regions', 'Region Spatial Format', 'Region Data Type', 'Region Flags', 'Region Location Min X0', 'Region Location Min Y0', 'Region Location Max X1', 'Region Location Max Y1', 'Reference Pixel X0', 'Reference Pixel Y0', 'Physical Units X Direction', 'Physical Units Y Direction', 'Reference Pixel Physical Value X', 'Reference Pixel Physical Value Y', 'Physical Delta X', 'Physical Delta Y', 'Study Instance UID', 'Series Instance UID', 'Study ID', 'Series Number', 'Instance Number', 'Patient Orientation', 'Laterality', 'Image Comments', 'Samples per Pixel', 'Photometric Interpretation', 'Planar Configuration', 'Number of Frames', 'Frame Increment Pointer', 'Rows', 'Columns', 'Bits Allocated', 'Bits Stored', 'High Bit', 'Pixel Representation', 'Lossy Image Compression', 'Pixel Data']\n",
      "\n",
      "bmode Tags\n",
      "['Specific Character Set', 'Image Type', 'SOP Class UID', 'SOP Instance UID', 'Study Date', 'Series Date', 'Content Date', 'Study Time', 'Series Time', 'Content Time', 'Accession Number', 'Modality', 'Manufacturer', 'Institution Name', 'Institution Address', \"Referring Physician's Name\", 'Station Name', 'Study Description', \"Performing Physician's Name\", \"Manufacturer's Model Name\", 'Recommended Display Frame Rate', \"Patient's Name\", 'Patient ID', \"Patient's Birth Date\", \"Patient's Sex\", \"Patient's Size\", \"Patient's Weight\", 'Patient Comments', 'Cine Rate', 'Effective Duration', 'Device Serial Number', 'Software Version(s)', 'Frame Time', 'Preferred Playback Sequencing', 'Sequence of Ultrasound Regions', 'Region Spatial Format', 'Region Data Type', 'Region Flags', 'Region Location Min X0', 'Region Location Min Y0', 'Region Location Max X1', 'Region Location Max Y1', 'Reference Pixel X0', 'Reference Pixel Y0', 'Physical Units X Direction', 'Physical Units Y Direction', 'Reference Pixel Physical Value X', 'Reference Pixel Physical Value Y', 'Physical Delta X', 'Physical Delta Y', 'Region Spatial Format', 'Region Data Type', 'Region Flags', 'Region Location Min X0', 'Region Location Min Y0', 'Region Location Max X1', 'Region Location Max Y1', 'Reference Pixel X0', 'Reference Pixel Y0', 'Physical Units X Direction', 'Physical Units Y Direction', 'Reference Pixel Physical Value X', 'Reference Pixel Physical Value Y', 'Physical Delta X', 'Physical Delta Y', 'Study Instance UID', 'Series Instance UID', 'Study ID', 'Series Number', 'Instance Number', 'Patient Orientation', 'Laterality', 'Image Comments', 'Samples per Pixel', 'Photometric Interpretation', 'Planar Configuration', 'Number of Frames', 'Frame Increment Pointer', 'Rows', 'Columns', 'Bits Allocated', 'Bits Stored', 'High Bit', 'Pixel Representation', 'Lossy Image Compression', 'Pixel Data']\n"
     ]
    }
   ],
   "source": [
    "#creating an array to store tags\n",
    "a=[]\n",
    "for elem in ds1.iterall():\n",
    "    a.append(elem.name)\n",
    "    \n",
    "    \n",
    "b=[]\n",
    "for elem in ds2.iterall():\n",
    "    b.append(elem.name)\n",
    "   \n",
    "\n",
    "#diplaying tags\n",
    "print('ttfm Tags')\n",
    "print(a)\n",
    "print()\n",
    "print('bmode Tags')\n",
    "print(b)"
   ]
  },
  {
   "cell_type": "code",
   "execution_count": 4,
   "metadata": {},
   "outputs": [],
   "source": [
    "df1 = pd.DataFrame({'ttfm_tags':a})\n",
    "\n",
    "df2 = pd.DataFrame({'bmode_tags':b}) \n"
   ]
  },
  {
   "cell_type": "code",
   "execution_count": 5,
   "metadata": {},
   "outputs": [],
   "source": [
    "#saving tags in txt format file\n",
    "\n",
    "df2.to_csv('ttfm_tags.txt',index=0,header=0)\n",
    "df2.to_csv('bmode_tags.txt',index=0,header=0)"
   ]
  }
 ],
 "metadata": {
  "kernelspec": {
   "display_name": "Python 3",
   "language": "python",
   "name": "python3"
  },
  "language_info": {
   "codemirror_mode": {
    "name": "ipython",
    "version": 3
   },
   "file_extension": ".py",
   "mimetype": "text/x-python",
   "name": "python",
   "nbconvert_exporter": "python",
   "pygments_lexer": "ipython3",
   "version": "3.7.1"
  }
 },
 "nbformat": 4,
 "nbformat_minor": 2
}
